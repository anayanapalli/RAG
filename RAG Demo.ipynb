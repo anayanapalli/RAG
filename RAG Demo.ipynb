{
 "cells": [
  {
   "cell_type": "code",
   "execution_count": 1,
   "metadata": {},
   "outputs": [],
   "source": [
    "import os\n",
    "import openai\n",
    "import dotenv\n",
    "\n",
    "from dotenv import load_dotenv, find_dotenv\n",
    "_ = load_dotenv(find_dotenv()) # read local .env file\n",
    "\n",
    "openai.api_key  = os.getenv('OPENAI_API_KEY')"
   ]
  },
  {
   "cell_type": "code",
   "execution_count": 2,
   "metadata": {},
   "outputs": [],
   "source": [
    "def get_chat_completion(prompt, model=\"gpt-3.5-turbo\", max_tokens=50, api_key=None):\n",
    "    from openai import OpenAI\n",
    "    try:\n",
    "        client = OpenAI()\n",
    "        response = client.chat.completions.create(\n",
    "            messages=[{\"role\": \"user\", \"content\": prompt,}],\n",
    "            model=\"gpt-3.5-turbo\",\n",
    "            max_tokens=max_tokens,\n",
    "        )\n",
    "        return response.choices[0].message.content\n",
    "    except Exception as e:\n",
    "        return f\"An error occurred: {str(e)}\""
   ]
  },
  {
   "cell_type": "code",
   "execution_count": 3,
   "metadata": {},
   "outputs": [],
   "source": [
    "file_to_read = \"/Users/anayanapalli/Documents/Laika.pdf\""
   ]
  },
  {
   "cell_type": "code",
   "execution_count": 4,
   "metadata": {},
   "outputs": [],
   "source": [
    "from langchain.document_loaders import PyPDFLoader\n",
    "loader = PyPDFLoader(file_to_read)\n",
    "pages = loader.load_and_split()"
   ]
  },
  {
   "cell_type": "code",
   "execution_count": 5,
   "metadata": {},
   "outputs": [],
   "source": [
    "from langchain.embeddings import OpenAIEmbeddings\n",
    "embeddings = OpenAIEmbeddings()"
   ]
  },
  {
   "cell_type": "code",
   "execution_count": 6,
   "metadata": {},
   "outputs": [],
   "source": [
    "from langchain.vectorstores import FAISS\n",
    "db = FAISS.from_documents(pages, embeddings)"
   ]
  },
  {
   "cell_type": "code",
   "execution_count": 8,
   "metadata": {},
   "outputs": [],
   "source": [
    "from langchain.chains import RetrievalQA\n",
    "from langchain import OpenAI\n",
    "llm = OpenAI()\n",
    "chain = RetrievalQA.from_llm(llm=llm, retriever=db.as_retriever())"
   ]
  },
  {
   "cell_type": "code",
   "execution_count": 9,
   "metadata": {},
   "outputs": [],
   "source": [
    "questions = [\n",
    "    \"What breed is Laika?\",\n",
    "    \"Does Laika have any friends?\",\n",
    "    \"How did Laika become interested in space?\",\n",
    "    \"Did Laika return from space?\"\n",
    "]"
   ]
  },
  {
   "cell_type": "code",
   "execution_count": 10,
   "metadata": {},
   "outputs": [
    {
     "name": "stdout",
     "output_type": "stream",
     "text": [
      "****************************************************************************************************\n",
      "Question: What breed is Laika?\n",
      "GPT-3.5: Laika is not a specific breed but the name given to several mixed-breed dogs that were Soviet space dogs in the 1950s.\n",
      "RAG :  Laika is a Shiba Inu.\n",
      "****************************************************************************************************\n",
      "Question: Does Laika have any friends?\n",
      "GPT-3.5: As an inanimate object, Laika does not have the capacity to have friends. Laika was a Soviet space dog who became the first animal to orbit the Earth aboard the Sputnik 2 spacecraft in 1957. Unfortunately, Laika\n",
      "RAG :  Yes, Laika has a trusty squirrel sidekick named Rocky and she meets friendly alien creatures during her cosmic escapades.\n",
      "****************************************************************************************************\n",
      "Question: How did Laika become interested in space?\n",
      "GPT-3.5: Laika, a stray dog from Moscow, became interested in space through a series of events orchestrated by the Soviet Union. In the 1950s, during the Cold War era, there was a race between the Soviet Union and the United States to\n",
      "RAG :  Laika became interested in space when she found an old telescope and a tattered star map on the doorstep of a mysterious-looking shed.\n",
      "****************************************************************************************************\n",
      "Question: Did Laika return from space?\n",
      "GPT-3.5: No, Laika, the Soviet space dog, did not return from space. She became the first animal to orbit Earth aboard the spacecraft Sputnik 2 launched on November 3, 1957. However, there were no plans or technology\n",
      "RAG :  Yes, Laika returned from space.\n"
     ]
    }
   ],
   "source": [
    "for question in questions:\n",
    "    print(\"*\"*100)\n",
    "    print(f\"Question: {question}\")\n",
    "    print(f\"GPT-3.5: {get_chat_completion(question, llm, 50)}\")\n",
    "    print(f\"RAG : {chain(question, return_only_outputs=True)['result']}\")"
   ]
  }
 ],
 "metadata": {
  "kernelspec": {
   "display_name": "Python 3 (ipykernel)",
   "language": "python",
   "name": "python3"
  },
  "language_info": {
   "codemirror_mode": {
    "name": "ipython",
    "version": 3
   },
   "file_extension": ".py",
   "mimetype": "text/x-python",
   "name": "python",
   "nbconvert_exporter": "python",
   "pygments_lexer": "ipython3",
   "version": "3.10.13"
  }
 },
 "nbformat": 4,
 "nbformat_minor": 2
}
